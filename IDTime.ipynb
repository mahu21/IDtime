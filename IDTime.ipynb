{
 "cells": [
  {
   "cell_type": "code",
   "execution_count": 4,
   "metadata": {
    "ExecuteTime": {
     "end_time": "2022-12-05T11:20:02.331800Z",
     "start_time": "2022-12-05T11:20:02.117465Z"
    },
    "scrolled": true
   },
   "outputs": [],
   "source": [
    "# Import packages\n",
    "import sys\n",
    "import os \n",
    "import time\n",
    "from datetime import datetime\n",
    "import datetime\n",
    "import numpy as np\n",
    "from IDride import *\n",
    "import epics"
   ]
  },
  {
   "cell_type": "code",
   "execution_count": null,
   "metadata": {
    "ExecuteTime": {
     "end_time": "2022-12-05T11:20:02.339293Z",
     "start_time": "2022-12-05T11:20:02.333682Z"
    }
   },
   "outputs": [],
   "source": [
    "# Choose IDs from ID List:\n",
    "IDs={  '1': \"U125/2\",\n",
    "        '2':'U49/2',  #### ID / MAchine ?\n",
    "        '3':'U41',\n",
    "        '4':'UE49/1', ####\n",
    "        '5':'UE49',\n",
    "        '6':'UE52',\n",
    "        '7':'UE46',\n",
    "        '8':'U139',\n",
    "        '9':'UE56/1',\n",
    "        '10':'U17',\n",
    "        '11':'UE48',\n",
    "        '12':'UE112',\n",
    "        '13':'U56/2'}\n",
    "#IDNO={'1','2','3','4','5','6','7','8','9','10','11','12','13'}\n",
    "#All IDs\n",
    "Idlist1={'1','2','3','4','5','6','7','8','9','10','11','12','13'}"
   ]
  },
  {
   "cell_type": "code",
   "execution_count": null,
   "metadata": {
    "ExecuteTime": {
     "end_time": "2022-12-05T11:20:02.345243Z",
     "start_time": "2022-12-05T11:20:02.342532Z"
    }
   },
   "outputs": [],
   "source": [
    "#Return & Unlock all IDs; Return to Home and not to the usual \"Return\"\n",
    "\n",
    "# for IDNO in Idlist1:\n",
    "#     returnhome(IDNO)\n",
    "# returnall    \n",
    "# unlockall    "
   ]
  },
  {
   "cell_type": "code",
   "execution_count": null,
   "metadata": {
    "ExecuteTime": {
     "end_time": "2022-12-05T11:20:02.353333Z",
     "start_time": "2022-12-05T11:20:02.347516Z"
    }
   },
   "outputs": [],
   "source": [
    "#create a timestamp in iso format\n",
    "ti0 = (\n",
    "    datetime.datetime(\n",
    "        year=2022,\n",
    "        month=11,\n",
    "        day=14,\n",
    "        hour=20,\n",
    "        minute=0,\n",
    "        tzinfo=datetime.timezone(datetime.timedelta(hours=2)),\n",
    "    )\n",
    "    .astimezone()\n",
    "    .isoformat()\n",
    ")"
   ]
  },
  {
   "cell_type": "markdown",
   "metadata": {},
   "source": [
    "# Gap"
   ]
  },
  {
   "cell_type": "code",
   "execution_count": null,
   "metadata": {
    "ExecuteTime": {
     "end_time": "2022-12-05T11:20:03.199159Z",
     "start_time": "2022-12-05T11:20:02.355129Z"
    }
   },
   "outputs": [],
   "source": [
    "#Call parameters from Archiver:\n",
    "for IDNO in Idlist1:\n",
    "#Read the gap values at timestam ti0 and now:\n",
    "    GapValue=GAPV(IDNO,ti0)\n",
    "#Restor the gap in timestamp\n",
    "    #GapDrive(GapValue,IDNO)          "
   ]
  },
  {
   "cell_type": "code",
   "execution_count": null,
   "metadata": {
    "ExecuteTime": {
     "end_time": "2022-12-05T11:20:03.239770Z",
     "start_time": "2022-12-05T11:20:03.204361Z"
    }
   },
   "outputs": [],
   "source": [
    "# Check if any ID is runnig:\n",
    "runcheck()\n",
    "# Continue to shift drive, if all IDs are at destination Gap:"
   ]
  },
  {
   "cell_type": "markdown",
   "metadata": {
    "ExecuteTime": {
     "end_time": "2022-11-02T14:26:05.777084Z",
     "start_time": "2022-11-02T14:26:05.768015Z"
    }
   },
   "source": [
    "# Shift\n"
   ]
  },
  {
   "cell_type": "code",
   "execution_count": null,
   "metadata": {
    "ExecuteTime": {
     "end_time": "2022-12-05T11:20:04.976286Z",
     "start_time": "2022-12-05T11:20:03.241778Z"
    }
   },
   "outputs": [],
   "source": [
    "Idlist2={'5','6','7','9','11','12','13'}\n",
    "#ID 9 : UE56ID6R has no aShift...\n",
    "#Only Apples\n",
    "for IDNO in Idlist2:\n",
    "    #Read back of shifts and horizontal drive mode AND Change the mode, if needed\n",
    "    Shiftvalue=SHIFTV(IDNO,ti0)     \n",
    "#Restore the shift at timestamp\n",
    "    #ShiftDrive(Shiftvalue,IDNO)"
   ]
  },
  {
   "cell_type": "code",
   "execution_count": null,
   "metadata": {
    "ExecuteTime": {
     "end_time": "2022-12-05T11:20:05.002974Z",
     "start_time": "2022-12-05T11:20:04.978553Z"
    }
   },
   "outputs": [],
   "source": [
    "# Return, Unlock all the IDs:\n",
    "#     SUM:CIOC:cmd   # Return , Home,   Unlock, Lock + Stop\n",
    "#     SUM:CIOC:stat1 #Status Home \n",
    "\n",
    "stat=ReadPvNow('SUM:CIOC:cmd')  # All IDs\n",
    "print(stat)"
   ]
  },
  {
   "cell_type": "code",
   "execution_count": null,
   "metadata": {
    "ExecuteTime": {
     "end_time": "2022-12-05T11:20:05.013351Z",
     "start_time": "2022-12-05T11:20:05.007731Z"
    }
   },
   "outputs": [],
   "source": [
    "#UE56ID6R has only rdbk2 =parallel\n",
    "#UE56ID8R has also only rdbk2 =parallel, but two drive modes..\n"
   ]
  },
  {
   "cell_type": "code",
   "execution_count": null,
   "metadata": {
    "ExecuteTime": {
     "end_time": "2022-12-05T11:20:05.020879Z",
     "start_time": "2022-12-05T11:20:05.016671Z"
    }
   },
   "outputs": [],
   "source": [
    "# [HOME] = Sperre Alle IDs (LOCK) und fahre sie auf HOME\n",
    "\n",
    "# ./idgapopen.sh Alle Gap auf HomeGap fahren (LOCK, HOME).\n",
    "# ReturnPosition = 100 mm setzen.\n",
    "# Nach Beendigung von idgapclose.sh - Arbeiten ausfuehren. Dauer etwa 10 Minuten.\n",
    "\n",
    "# idhomeÄnderung der HOME-Gap Position der Undulatoren. (nur als idadm auf shoshoni!)\n",
    "\n",
    "# RELOADLade aus den config.tab der aktivierten Geräte die aktuellen Einträge für das HOME_Gap.\n",
    "\n",
    "# 1. In Service Mode (writes 0 to head:BaseCmdSMode)\n",
    "# 2. reads current gap and writes into return field (to stop ID going to a random previous point)\n",
    "# 2. Unlock (writes 5 and then 3 to head:CIOC:cmd)\n",
    "# 3. In Local Control Mode (writes 0 to head:BaseCmdLswitch)\n",
    "        \n",
    "        \n",
    "        \n",
    "# to return the ID to a neutral state. \n",
    "#             1. Not of Service Mode (writes 1 to head:BaseCmdSMode)\n",
    "#             2. Unlock (writes 2 and then 4 to head:CIOC:cmd)\n",
    "#             3. In Local Control Mode (writes 0 to head:BaseCmdLswitch)        \n"
   ]
  },
  {
   "cell_type": "code",
   "execution_count": null,
   "metadata": {
    "ExecuteTime": {
     "end_time": "2022-12-05T11:20:05.633016Z",
     "start_time": "2022-12-05T11:20:05.026569Z"
    }
   },
   "outputs": [],
   "source": [
    "Shiftvalue=-9\n",
    "aShiftvalue=0.2\n",
    "shifts=[Shiftvalue,aShiftvalue]\n",
    "shiftsab=[abs(Shiftvalue),abs(aShiftvalue)]\n",
    "arrmax=np.argmax(shiftsab)\n",
    "max(shiftsab).index\n",
    "shiftmax=shifts[arrmax]\n",
    "shiftmax"
   ]
  },
  {
   "cell_type": "code",
   "execution_count": null,
   "metadata": {},
   "outputs": [],
   "source": []
  }
 ],
 "metadata": {
  "kernelspec": {
   "display_name": "Python 3 (ipykernel)",
   "language": "python",
   "name": "python3"
  },
  "language_info": {
   "codemirror_mode": {
    "name": "ipython",
    "version": 3
   },
   "file_extension": ".py",
   "mimetype": "text/x-python",
   "name": "python",
   "nbconvert_exporter": "python",
   "pygments_lexer": "ipython3",
   "version": "3.11.5"
  },
  "toc": {
   "base_numbering": 1,
   "nav_menu": {},
   "number_sections": true,
   "sideBar": true,
   "skip_h1_title": false,
   "title_cell": "Table of Contents",
   "title_sidebar": "Contents",
   "toc_cell": false,
   "toc_position": {},
   "toc_section_display": true,
   "toc_window_display": false
  },
  "varInspector": {
   "cols": {
    "lenName": 16,
    "lenType": 16,
    "lenVar": 40
   },
   "kernels_config": {
    "python": {
     "delete_cmd_postfix": "",
     "delete_cmd_prefix": "del ",
     "library": "var_list.py",
     "varRefreshCmd": "print(var_dic_list())"
    },
    "r": {
     "delete_cmd_postfix": ") ",
     "delete_cmd_prefix": "rm(",
     "library": "var_list.r",
     "varRefreshCmd": "cat(var_dic_list()) "
    }
   },
   "types_to_exclude": [
    "module",
    "function",
    "builtin_function_or_method",
    "instance",
    "_Feature"
   ],
   "window_display": false
  }
 },
 "nbformat": 4,
 "nbformat_minor": 2
}
